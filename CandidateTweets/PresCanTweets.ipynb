{
 "cells": [
  {
   "cell_type": "code",
   "execution_count": 1,
   "metadata": {
    "collapsed": false
   },
   "outputs": [],
   "source": [
    "%matplotlib inline\n",
    "import re\n",
    "import collections\n",
    "import operator\n",
    "import codecs\n",
    "import itertools\n",
    "import numpy\n",
    "import matplotlib.pyplot as plt\n",
    "import numpy as np"
   ]
  },
  {
   "cell_type": "code",
   "execution_count": 2,
   "metadata": {
    "collapsed": false
   },
   "outputs": [],
   "source": [
    "# Trump: 3,690 total\n",
    "trumpfile = open('trumptweets2.txt', encoding=\"utf8\")\n",
    "ttweets = trumpfile.read()"
   ]
  },
  {
   "cell_type": "code",
   "execution_count": 5,
   "metadata": {
    "collapsed": false
   },
   "outputs": [
    {
     "data": {
      "text/plain": [
       "'\"@KathyCeurter: @realDonaldTrump please Mr.Trump make @SenatorJeffSessions your VP. He is a perfect running mate.\"  He is a great guy!\\nBernie Sanders must really dislike Crooked Hillary after the way she played him. Many of his supporters, because of trade, will come to me.\\n\"@mabynshingleton: JohnKasich, the VOTERS have spoken.We want @realDonaldTrump. You AGREED to support NOMINEE. Get on board or leave @GOP\"\\n\"@Dale_Dangler: @realDonaldTrump You will be the greatest president the world has ever seen\"  Thanks.\\nI would have had many millions of votes more than Crooked Hillary Clinton except for the fact that I had 16 opponents, she had one!\\n\"@nauthizjane: @realDonaldTrump Congratulations Mr. Trump.\"  Thank you!\\n\"@setfire2flames: Senator Sanders spent more than @realDonaldTrump yet lost.\"\\nMAKE AMERICA GREAT AGAIN!\\n#AmericaFirst #Trump2016 \\nhttps://t.co/42OpVsjXjp\\n\"@lovusa4: @RichardWeaving Why @foxandfriends @NewDay WHERE IS THE REPORTING @realDonaldTrump &lt;MOST VOTES FOR PRESIDENT IN '"
      ]
     },
     "execution_count": 5,
     "metadata": {},
     "output_type": "execute_result"
    }
   ],
   "source": [
    "# display a sample of Trumps tweets\n",
    "ttweets[:1000]"
   ]
  },
  {
   "cell_type": "code",
   "execution_count": 6,
   "metadata": {
    "collapsed": false,
    "scrolled": true
   },
   "outputs": [],
   "source": [
    "#method found at https://docs.python.org/2/library/collections.html\n",
    "words = re.findall(r'\\w+', ttweets)\n",
    "trumpls = collections.Counter(words).most_common(54)\n",
    "trumpls;"
   ]
  },
  {
   "cell_type": "code",
   "execution_count": 7,
   "metadata": {
    "collapsed": false
   },
   "outputs": [],
   "source": [
    "#Clinton: 3,189\n",
    "clintonfile = open('clintontweets2.txt', encoding=\"utf-8\");\n",
    "ctweets = clintonfile.read();"
   ]
  },
  {
   "cell_type": "code",
   "execution_count": 8,
   "metadata": {
    "collapsed": false
   },
   "outputs": [
    {
     "data": {
      "text/plain": [
       "\"“It’s a simple but powerful idea: We believe that we are stronger together.” —Hillary https://t.co/BpXIJZNcDy\\nA note from Hillary. https://t.co/LHSZvl7ODF\\nA headline 227 years in the making. https://t.co/7RDeQ3bQ3z https://t.co/IuHMa3tUTr\\nHistory. https://t.co/CkDyWA2Bfv https://t.co/hI52yd3ATf\\nFront pages from around the country on a big day. https://t.co/bNrJXn967S https://t.co/JA2R2R9drQ\\nIf Hillary could go back in time and tell anyone she'd been nominated for president, it would be her mom. https://t.co/LfcqMPQ0ST\\nLet’s keep making history, together.\\nhttps://t.co/7IIvZVW3HY\\nThank you, California! https://t.co/EgtQpT6JZT\\nDon’t let anyone tell you that great things can’t happen in America. https://t.co/dtgjwmcfMm\\nDon’t let anyone tell you great things can’t happen in America. Barriers can come down. Justice &amp; equality can win.\\nhttps://t.co/5xcwapDvPJ\\nText CONGRATS to 47246 to tell Hillary you're proud to be by her side all the way to the White House. https://t.co/bBCd6SF3Vf\\nThank\""
      ]
     },
     "execution_count": 8,
     "metadata": {},
     "output_type": "execute_result"
    }
   ],
   "source": [
    "# display a sample of Clintons tweets\n",
    "ctweets[0:1000]"
   ]
  },
  {
   "cell_type": "code",
   "execution_count": 9,
   "metadata": {
    "collapsed": false
   },
   "outputs": [],
   "source": [
    "#method found at https://docs.python.org/2/library/collections.html\n",
    "words = re.findall(r'\\w+', ctweets)\n",
    "clintonls = collections.Counter(words).most_common(55)\n",
    "clintonls;"
   ]
  },
  {
   "cell_type": "code",
   "execution_count": 10,
   "metadata": {
    "collapsed": true
   },
   "outputs": [],
   "source": [
    "# all the words in the top 20 most commonly used >1 letter\n",
    "# plus a few that were clearly part of urls\n",
    "# https://en.wikipedia.org/wiki/Most_common_words_in_English\n",
    "commonwords = ('the', 'The', 'be', 'to', 'of', 'and','in','that','have','it',\n",
    "               'for','not', 'on', 'with', 'he', 'as', 'you', 'do', 'that',\n",
    "               'are', 'is', 'were', 'was', 'co', 're', 'https', 'amp')"
   ]
  },
  {
   "cell_type": "code",
   "execution_count": 11,
   "metadata": {
    "collapsed": false
   },
   "outputs": [],
   "source": [
    "# function to remove words in the common words list from a string\n",
    "def keepelement(element):\n",
    "    return not (element[0].startswith(commonwords) or len(element[0])==1)\n",
    "\n",
    "cleantrump = list(filter(keepelement, trumpls))\n",
    "cleanclinton = list(filter(keepelement, clintonls))"
   ]
  },
  {
   "cell_type": "code",
   "execution_count": 12,
   "metadata": {
    "collapsed": false
   },
   "outputs": [
    {
     "data": {
      "text/plain": [
       "[('will', 475),\n",
       " ('Trump2016', 436),\n",
       " ('Trump', 419),\n",
       " ('Thank', 414),\n",
       " ('MakeAmericaGreatAgain', 293),\n",
       " ('me', 280),\n",
       " ('at', 260),\n",
       " ('great', 255),\n",
       " ('Hillary', 213),\n",
       " ('Cruz', 210),\n",
       " ('so', 209),\n",
       " ('my', 203),\n",
       " ('all', 200),\n",
       " ('people', 183),\n",
       " ('by', 179),\n",
       " ('has', 177),\n",
       " ('out', 165),\n",
       " ('from', 163),\n",
       " ('just', 155),\n",
       " ('CNN', 148),\n",
       " ('New', 148),\n",
       " ('this', 145),\n",
       " ('We', 145),\n",
       " ('his', 142),\n",
       " ('Ted', 134)]"
      ]
     },
     "execution_count": 12,
     "metadata": {},
     "output_type": "execute_result"
    }
   ],
   "source": [
    "cleantrump"
   ]
  },
  {
   "cell_type": "code",
   "execution_count": 13,
   "metadata": {
    "collapsed": false
   },
   "outputs": [
    {
     "data": {
      "text/plain": [
       "[('Hillary', 687),\n",
       " ('We', 452),\n",
       " ('we', 380),\n",
       " ('can', 271),\n",
       " ('our', 266),\n",
       " ('Trump', 248),\n",
       " ('this', 240),\n",
       " ('who', 216),\n",
       " ('need', 199),\n",
       " ('should', 175),\n",
       " ('president', 167),\n",
       " ('DemDebate', 164),\n",
       " ('at', 163),\n",
       " ('America', 150),\n",
       " ('make', 148),\n",
       " ('all', 145),\n",
       " ('It', 145),\n",
       " ('about', 141),\n",
       " ('families', 139),\n",
       " ('from', 136),\n",
       " ('will', 128),\n",
       " ('more', 126),\n",
       " ('or', 120),\n",
       " ('women', 119),\n",
       " ('people', 118)]"
      ]
     },
     "execution_count": 13,
     "metadata": {},
     "output_type": "execute_result"
    }
   ],
   "source": [
    "cleanclinton"
   ]
  },
  {
   "cell_type": "code",
   "execution_count": 14,
   "metadata": {
    "collapsed": false,
    "scrolled": true
   },
   "outputs": [
    {
     "data": {
      "image/png": "[encoded data removed]",
      "text/plain": [
       "<matplotlib.figure.Figure at 0x1c86c0db320>"
      ]
     },
     "metadata": {},
     "output_type": "display_data"
    }
   ],
   "source": [
    "x = range(len(cleantrump))\n",
    "y = [x[1] for x in cleantrump]\n",
    "plt.bar(x, y, width= 1, color=\"red\", edgecolor=\"white\");\n",
    "plt.xlabel('Word');\n",
    "plt.ylabel('Occurences');\n",
    "plt.title('Words in Donald Trumps Tweets');\n",
    "plt.xticks(np.arange(.5,25.5), [x[0] for x in cleantrump], rotation=90);"
   ]
  },
  {
   "cell_type": "code",
   "execution_count": 16,
   "metadata": {
    "collapsed": false,
    "scrolled": true
   },
   "outputs": [
    {
     "data": {
      "image/png": "[encoded data removed]",
      "text/plain": [
       "<matplotlib.figure.Figure at 0x1c86c2bb7b8>"
      ]
     },
     "metadata": {},
     "output_type": "display_data"
    }
   ],
   "source": [
    "x = range(len(cleanclinton))\n",
    "y = [x[1] for x in cleanclinton]\n",
    "plt.bar(x, y, width=1, color=\"blue\", edgecolor=\"white\");\n",
    "plt.xlabel('Word');\n",
    "plt.ylabel('Occurences');\n",
    "plt.title('Words in Hillary Clintons Tweets');\n",
    "plt.xticks(np.arange(.5,25.5), [x[0] for x in cleanclinton], rotation=90);"
   ]
  },
  {
   "cell_type": "code",
   "execution_count": 17,
   "metadata": {
    "collapsed": false
   },
   "outputs": [
    {
     "data": {
      "text/plain": [
       "0.05772357723577236"
      ]
     },
     "execution_count": 17,
     "metadata": {},
     "output_type": "execute_result"
    }
   ],
   "source": [
    "# in what percent of tweets did Trump mention Clinton\n",
    "mentionedc = (213/3690)\n",
    "mentionedc"
   ]
  },
  {
   "cell_type": "code",
   "execution_count": 18,
   "metadata": {
    "collapsed": false
   },
   "outputs": [
    {
     "data": {
      "text/plain": [
       "0.07776732518030731"
      ]
     },
     "execution_count": 18,
     "metadata": {},
     "output_type": "execute_result"
    }
   ],
   "source": [
    "# in what percent of tweets did Clinton mention Trump\n",
    "mentionedt = (248/3189)\n",
    "mentionedt"
   ]
  }
 ],
 "metadata": {
  "anaconda-cloud": {},
  "kernelspec": {
   "display_name": "Python [default]",
   "language": "python",
   "name": "python3"
  },
  "language_info": {
   "codemirror_mode": {
    "name": "ipython",
    "version": 3
   },
   "file_extension": ".py",
   "mimetype": "text/x-python",
   "name": "python",
   "nbconvert_exporter": "python",
   "pygments_lexer": "ipython3",
   "version": "3.5.1"
  }
 },
 "nbformat": 4,
 "nbformat_minor": 0
}
